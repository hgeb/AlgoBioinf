{
 "cells": [
  {
   "cell_type": "code",
   "execution_count": 1,
   "id": "5e6ad366-efb5-4db0-bad1-449a34476685",
   "metadata": {},
   "outputs": [],
   "source": [
    "import ReadNewickFormat\n",
    "import BinaryTree\n",
    "import pandas as pd\n",
    "import re\n",
    "\n",
    "alphabet = [\"A\",\"T\",\"C\",\"G\"]\n",
    "\n",
    "type_LeafNode = BinaryTree.BinaryTree.LeafNode #for comparing node types\n",
    "\n",
    "type_InternalNode = BinaryTree.BinaryTree.InternalNode"
   ]
  },
  {
   "cell_type": "code",
   "execution_count": 2,
   "id": "011fd710-6c6f-4a14-9375-2019b2ba949a",
   "metadata": {},
   "outputs": [
    {
     "name": "stdout",
     "output_type": "stream",
     "text": [
      "((2,3),((1,4),5))\n"
     ]
    }
   ],
   "source": [
    "T, Error =  ReadNewickFormat.run(\"((2,3),((1,4),5))\") #Testeingabe für parser\n",
    "\n",
    "testSeq = [\"A\",\"A\",\"A\",\"A\",\"C\"]\n",
    "\n",
    "if Error:\n",
    "    print(Error.as_string())\n",
    "else: print(T)\n",
    "    \n"
   ]
  },
  {
   "cell_type": "code",
   "execution_count": 3,
   "id": "c897893e-23c7-414c-8a4b-dd57c23ac8d8",
   "metadata": {},
   "outputs": [],
   "source": [
    "def prepareLeaves(T,sequences):\n",
    "    \"\"\"\n",
    "    Sorting the leaf array and assigning the sequences.\n",
    "    \"\"\"\n",
    "    leaves = T.getLeaves()\n",
    "    leaves.sort(key=lambda x: x.num)\n",
    "    for index, value in enumerate(sequences):\n",
    "        leaves[index].setSequence(value)\n",
    "    "
   ]
  },
  {
   "cell_type": "code",
   "execution_count": 4,
   "id": "888de602-bbd9-46f8-8c7b-bc7e8234f731",
   "metadata": {},
   "outputs": [],
   "source": [
    "def score(node, seq_index, delta = None):\n",
    "    \"\"\"\n",
    "    Score funtion for a node.\n",
    "    \"\"\"\n",
    "    \n",
    "    if delta is None: \n",
    "        delta = lambda x,y: 0 if x == y else 1 #function for smallparsimony\n",
    "    else:\n",
    "        df = delta\n",
    "        delta = lambda x,y: df.loc[x][y] #function for weighted parsiomony\n",
    "    inf = float('inf')\n",
    "    res = {} #dictionary for storing score for each alphabet char\n",
    "    if type(node) == type_LeafNode:\n",
    "        for value in alphabet:\n",
    "            if node.sequence[seq_index] == value:\n",
    "                res[value] = 0\n",
    "            else:\n",
    "                res[value] = inf\n",
    "        node.score = res\n",
    "    else:\n",
    "        for value in alphabet:\n",
    "            res[value] = min([node.left.score[i] + delta(i,value) for i in alphabet]) + min([node.right.score[i] + delta(i,value) for i in alphabet])\n",
    "        \n",
    "        node.score = res\n",
    "            \n",
    "    \n",
    "\n"
   ]
  },
  {
   "cell_type": "code",
   "execution_count": 5,
   "id": "f0e84c34-f72e-4476-bf9b-d192ff994b1f",
   "metadata": {},
   "outputs": [],
   "source": [
    "def smallParsimony(T, leaves,delta = None):\n",
    "    n = len (leaves[0].sequence) #length of sequences\n",
    "\n",
    "    res = 0\n",
    "    for i in range(n):\n",
    "        ripeNodes = [] #ripeNodes have two tagged children\n",
    "        tag = True \n",
    "\n",
    "        for j in range(len(leaves)):\n",
    "            leaves[j].setTag(tag) #tag children\n",
    "            score(leaves[j], i,delta)\n",
    "            parent = leaves[j].parent\n",
    "\n",
    "            if parent.left.tag == tag and parent.right.tag == tag: #check if internalNode has two tags\n",
    "                ripeNodes.append(parent)\n",
    "\n",
    "        while ripeNodes: #while there a ripeNodes, calculate the scores for each ripe node\n",
    "            node = ripeNodes.pop()\n",
    "            node.setTag(tag)\n",
    "            score(node,i,delta)\n",
    "            parent = node.parent\n",
    "\n",
    "            if parent == None: #if node is root\n",
    "                break\n",
    "\n",
    "            if parent.left.tag == tag and parent.right.tag == tag: #if parent is ripe\n",
    "                ripeNodes.append(parent)\n",
    "\n",
    "        res += min(T.root.score.values()) \n",
    "        tag = not tag #set new tag for next round\n",
    "\n",
    "    return res"
   ]
  },
  {
   "cell_type": "code",
   "execution_count": 6,
   "id": "2dd5106a-9129-47f9-96fe-7702eb922f23",
   "metadata": {},
   "outputs": [],
   "source": [
    "def readFile(filename):\n",
    "    \"\"\"\n",
    "    Reads a text file.\n",
    "    \"\"\"\n",
    "    text = []\n",
    "    with open(filename) as file:\n",
    "        for line in file:\n",
    "            if ((sline := line.rstrip()) == \"\"): #if there is an empty line\n",
    "                continue\n",
    "            text.append(sline)\n",
    "    return text"
   ]
  },
  {
   "cell_type": "code",
   "execution_count": 7,
   "id": "f0a5546d-2862-4491-9ba9-2a831a1479ba",
   "metadata": {},
   "outputs": [],
   "source": [
    "def getCostMatrix(costMatrix):\n",
    "    \"\"\"\n",
    "    Gets cost matrix from string list.\n",
    "    \"\"\"\n",
    "    #costMatrix = [str.replace(s, \" \",\"\") for s in costMatrix] #delete all whitespaces #!!TODO: Fehler bei mehrstelligen Zahlen\n",
    "    \n",
    "    costMatrix = [re.split(' +', s) for s in costMatrix] #split string into list on white spaces\n",
    "    \n",
    "    cr_name = [c for c in costMatrix[0]] \n",
    "\n",
    "    df = pd.DataFrame(columns=cr_name, index=cr_name)\n",
    "\n",
    "    for i in range(0,len(cr_name)):\n",
    "        for j in range(0,i+1):\n",
    "            cost = float(costMatrix[i+1][j+1])\n",
    "            df.iloc[i,j] = cost\n",
    "            df.iloc[j,i] = cost\n",
    "    return df"
   ]
  },
  {
   "cell_type": "code",
   "execution_count": 8,
   "id": "6c79b105-dedf-4d6c-9dde-b24a3969c114",
   "metadata": {},
   "outputs": [
    {
     "name": "stdout",
     "output_type": "stream",
     "text": [
      "Weighted small parsimony score: 30.0\n"
     ]
    }
   ],
   "source": [
    "sequences = readFile(\"sequenzen.txt\")\n",
    "try:\n",
    "    costMatrix = getCostMatrix(readFile(\"kosten.txt\"))\n",
    "except e:\n",
    "    costMatrix = pd.DataFrame()\n",
    "\n",
    "T, Error =  ReadNewickFormat.run(readFile(\"topologie.txt\")[0])\n",
    "\n",
    "\n",
    "if Error:\n",
    "    print(Error.as_string())\n",
    "elif not all([len(sequences[0]) == len(seq) for seq in sequences]):\n",
    "    print(\"Sequenzen haben nicht gleiche Länge.\")\n",
    "elif len(sequences) != len(T.getLeaves()):\n",
    "    print(\"Mehr Sequenzen als Blätter im Newick-Format\")\n",
    "elif costMatrix.empty:\n",
    "    print(\"Falsches Matrixformat\")\n",
    "else:\n",
    "    prepareLeaves(T, sequences)\n",
    "    print(f'Weighted small parsimony score: {smallParsimony(T, T.getLeaves(),costMatrix)}')"
   ]
  }
 ],
 "metadata": {
  "kernelspec": {
   "display_name": "Python 3",
   "language": "python",
   "name": "python3"
  },
  "language_info": {
   "codemirror_mode": {
    "name": "ipython",
    "version": 3
   },
   "file_extension": ".py",
   "mimetype": "text/x-python",
   "name": "python",
   "nbconvert_exporter": "python",
   "pygments_lexer": "ipython3",
   "version": "3.8.8"
  }
 },
 "nbformat": 4,
 "nbformat_minor": 5
}
