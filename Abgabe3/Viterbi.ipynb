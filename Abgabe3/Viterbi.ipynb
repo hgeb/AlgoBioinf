{
 "cells": [
  {
   "cell_type": "markdown",
   "id": "381f9e61-5067-4be3-808f-945ec438d75f",
   "metadata": {},
   "source": [
    "# Hidden Markov Modell (HMM) zum unehrlichen Casion\n",
    "\n",
    "In dieser Rechnerübung wurde ein HMM, das ein Würfelspiel in einem unehrlichem Casino beschreibt, untersucht. Dabei wurde \n",
    "der Viterbi-Algorithmus implementiert, der den wahrscheinlichsten Pfad bei gegebener Sequenz x mittels dynamischen Programmieren berechnet:\n",
    "$$\\pi^* = argmax_\\pi P(x,\\pi)$$\n",
    "\n",
    "Außerdem wurde noch der Forward-Backward-Algorithmus implementiert, dieser berechnet für jede Position i die Wahrscheinlichkeit des Zustandes k bei gegebener Sequenz x: \n",
    "\n",
    "$$P(\\pi_i = k | x)$$\n",
    "\n",
    "Die Algorithmen wurden an dem Textbuchbeispiel aus *Durbin et al. “Biological sequence analysis” Seite 54-57* getestet."
   ]
  },
  {
   "cell_type": "markdown",
   "id": "6a1888f4-04ed-48b2-994e-f03be85e8b09",
   "metadata": {},
   "source": [
    "## Technische Probleme\n",
    "Beim ersten Ansatz den Viterbi-Algorithmus zu implementieren, stellte die Implementierung des Backtrackings eine Schwierigleit da (siehe Anhang). Als erstes wurde eine Knoten-Klasse definiert, die immer auf den Vorgängerzustand zeigen sollte, dies wurde aber fehlerhaft implementiert. Im zweiten Anlauf wurde eine Backtrackingmatrix verwendet und damit wurde das Backtracking auch richtig implementiert.\n",
    "Außerdem stellte die Transformierung der Wahrscheinlichkeiten in LogSpace bei dem Forward-Backward-Algorithmus ein Problem da, da dies nicht ganz so trivial ist, wie beim Viterbi-Algorithmus. "
   ]
  },
  {
   "cell_type": "markdown",
   "id": "01d110c8-7e40-4fe7-81a8-f0505a0ac5e8",
   "metadata": {},
   "source": [
    "## Implementierung des Viterbi-Algorithmus\n",
    "\n",
    "Bei der Implementation des Viterbi-Algorithmus wurde die Wahrscheinlichkeit im LogSpace betrachtet, um eine numerisch stabile Implementation zu gewährleisten. Da bei der Multiplikation der Wahrscheinlichkeiten der Wert exponentiell schnell abfällt, kann dies schnell zu einem \"Underflow\"-Fehler führen. Im LogSpace müssen die einzelnen Werte nicht mehr multipliziert, sondern addiert werden:\n",
    "\n",
    "$$ log(p_i * p_j) = log(p_i) + log (p_j)$$\n",
    "\n"
   ]
  },
  {
   "cell_type": "markdown",
   "id": "c4b11347-47b6-4246-88b2-7c099c0541a1",
   "metadata": {},
   "source": [
    "## Implementierung des Forward-Backward-Algorithmus\n",
    "\n",
    "Um die Unsicherheit des Modells an bestimmten Stellen zu untersuchen, eignet sich der Forward-Backward-Algorithmus,\n",
    "da dieser für jede Position i die Wahrscheinlichkeit des Zustandes k bei gegebener Sequenz x berechnet. Der Viterbi-Algorithmus bestimmt global den besten Pfad, aber mit dem Forward-Backward-Algorithmus lassen sich lokale Bereiche etwas besser abschätzen. \n",
    "\n",
    "Auch hier ist es wichtig die Wahrscheinlichkeiten zu transformieren, um Underflow-Fehler zu vermeiden. Dies ist aber nicht ganz so trivial wie beim Viterbi-Algorithmus, da man hier mit Summen der Wahrscheinlichkeiten rechnet und nicht mehr nur mit dem Produkt. Auch hier wurde der Logarithmus verwendet:\n",
    "    \n",
    "$\\widetilde{r} = log(p+q) $ mit $\\widetilde{p} = log(p)$ and $\\widetilde{q} = log(q)$ ergibt sich:\n",
    "\n",
    "$$\\widetilde{r} = log(exp(\\widetilde{p})) +  log(exp(\\widetilde{q}))$$\n",
    "\n",
    "Indem $\\widetilde{p}$ rausgezogen wird, wird folgender Term erhalten:\n",
    "\n",
    "$$ \\widetilde{r} = \\widetilde{p} + log(1+ exp(\\widetilde{q} - \\widetilde{p}))$$\n",
    "\n",
    "Wenn immer der größte Wert rausgezogen wird, lässt sich der Term effizienter berechnen.\n",
    "\n",
    "Eine andere Möglichkeit für eine numerisch sinnvolle Implementation wäre die Skalierung der Wahrscheinlichkeitswerte, damit die Werte in einem numerischen handhabbaren Bereich bleiben. Da aber der log-Ansatz verwendet wurde, wird hier nicht näher auf die zweite Methode eingegangen."
   ]
  },
  {
   "cell_type": "markdown",
   "id": "52e8698f-7a8b-4c5a-acb1-03acb91e02f8",
   "metadata": {},
   "source": [
    "## Anwendung auf Buchbeispiel\n",
    "\n",
    "Der Viterbi-Algorithmus wurde auf die Würfelwurfsequenz aus Durbin angewandt. Der ausgegebene Pfad stimmt mit dem Buchbeispiel überein, dementsprechend müsste der Algorithmus hier richtig implementiert sein.\n",
    "\n",
    "Die folgende Abbildung zeigt eine Visualisierung der Zustände des Pfades. Dabei wurde der Viterbi-Pfad und der reale Pfad aufgetragen. Zusätzlich wurde für jeden Wurf die Wahrscheinlichkeit visualisiert, dass ein Wurf fair ist.\n",
    "\n",
    "<img src=\"Anwendung.png\" width=\"750\">\n",
    "\n",
    "Was hier auffällig ist, ist, dass der Viterbi-Pfad zu großen Teilen mit dem realen Pfad übereinstimmt, aber an einigen Stellen natürlich den falschen Zustand angibt. Weiterhin fällt auf, dass der Graph der Wahrscheinlichkeiten ziemlich gut von dem wahren Pfad umrahmt wird und die Zustand teilweise sogar \"genauer\" als der Viterbi-Pfad vorraussagt.\n",
    "\n",
    "Um dies weiter zu untersuchen wird aus der Posterior-Verteilung ein neuer Pfad definiert. Für den Posterior-Pfad gilt:\n",
    "\n",
    "$$\\widehat{\\pi}_i = argmax_k P(\\pi_i = k | x)$$\n",
    "\n",
    "Betrachtet man die Sensitivität und Spezifität im Bezug auf die Erkennung von unfairen Würfeln, ergibt sich folgendes Ergebnis:\n",
    "\n",
    "| Pfad   |      Sensitivität      |  Spezifität |\n",
    "|----------|-------------:|------:|\n",
    "| Viterbi |  0.7917 | 0.9607 |\n",
    "| Posterior| 0.8333 | 0.9412 |\n",
    "\n",
    "In diesem Beispiel hat also der Posterior-Pfad eine bessere Sensitivität als der Viterbi-Pfad, dafür aber eine geringere Spezifität."
   ]
  },
  {
   "cell_type": "markdown",
   "id": "8b96162c-b1cc-4366-a5cb-ed93fd60462b",
   "metadata": {},
   "source": [
    "# Quellcode"
   ]
  },
  {
   "cell_type": "markdown",
   "id": "3a7295be-e35b-43c7-b1e2-0953eebadf3d",
   "metadata": {},
   "source": [
    "### Importieren der benötigten Module"
   ]
  },
  {
   "cell_type": "code",
   "execution_count": 1,
   "id": "7300a528-a92b-4a5c-85a5-c01d24dfd97b",
   "metadata": {},
   "outputs": [],
   "source": [
    "import pandas as pd\n",
    "import numpy as np\n",
    "from matplotlib import pyplot as plt\n",
    "import re"
   ]
  },
  {
   "cell_type": "markdown",
   "id": "6bfa5739-95e9-4a1b-93e0-6df5804a3196",
   "metadata": {},
   "source": [
    "## Erstellung des HMM\n",
    "Die HMM besteht aus einem Alphabet, einer Menge von Zuständen, eine Transition-Matrix für die Übergangswahrscheinlichkeiten zwischen Zuständen und einer Emission-Matrix für die Emissionswahrscheinlichkeiten der Zeichen von bestimmten Zuständen."
   ]
  },
  {
   "cell_type": "code",
   "execution_count": 2,
   "id": "a4ca5a92-7cbe-41ee-b9d3-ce380cbb1441",
   "metadata": {},
   "outputs": [],
   "source": [
    "alphabet = ['1','2','3','4','5','6']\n",
    "states  = ['F','L']\n",
    "transition = pd.DataFrame([[0.95,0.05],[0.1,0.90]],index=states, columns=states)\n",
    "emission = pd.DataFrame([[1/6,1/6,1/6,1/6,1/6,1/6],[1/10,1/10,1/10,1/10,1/10,1/2]], index= states, columns= alphabet)\n",
    "start_prob = {\"F\":0.5,\"L\":0.5}"
   ]
  },
  {
   "cell_type": "code",
   "execution_count": 3,
   "id": "565d3064-8642-464c-a446-9fa35beadafd",
   "metadata": {},
   "outputs": [
    {
     "name": "stdout",
     "output_type": "stream",
     "text": [
      "      F     L\n",
      "F  0.95  0.05\n",
      "L  0.10  0.90\n"
     ]
    }
   ],
   "source": [
    "print(transition)"
   ]
  },
  {
   "cell_type": "code",
   "execution_count": 4,
   "id": "0e801a7e-ebaf-4d20-80f5-82fad92a3958",
   "metadata": {},
   "outputs": [
    {
     "name": "stdout",
     "output_type": "stream",
     "text": [
      "          1         2         3         4         5         6\n",
      "F  0.166667  0.166667  0.166667  0.166667  0.166667  0.166667\n",
      "L  0.100000  0.100000  0.100000  0.100000  0.100000  0.500000\n"
     ]
    }
   ],
   "source": [
    "print(emission)"
   ]
  },
  {
   "cell_type": "markdown",
   "id": "8021bdd2-9be9-46f4-8c64-00df4cd95198",
   "metadata": {},
   "source": [
    "## Enlesen der Daten"
   ]
  },
  {
   "cell_type": "code",
   "execution_count": 5,
   "id": "8684244c-372b-481f-84dd-31796d2347d5",
   "metadata": {},
   "outputs": [],
   "source": [
    "def readFile(filename):\n",
    "    \"\"\"\n",
    "    Reads a text file.\n",
    "    \"\"\"\n",
    "    text = []\n",
    "    with open(filename) as file:\n",
    "        for line in file:\n",
    "            if ((sline := line.replace(\"\\t\",\" \").rstrip()) == \"\"): #if there is an empty line\n",
    "                continue\n",
    "            sline.replace(\"\\t\",\"halo\")\n",
    "            text.append(sline)\n",
    "    return text"
   ]
  },
  {
   "cell_type": "code",
   "execution_count": 6,
   "id": "fd3069a2-6bd3-43c4-af66-d01435f66b0a",
   "metadata": {},
   "outputs": [],
   "source": [
    "obs = \"\".join(readFile(\"Casino.txt\"))"
   ]
  },
  {
   "cell_type": "code",
   "execution_count": 7,
   "id": "929208fe-d917-43da-87b1-e65405364d01",
   "metadata": {},
   "outputs": [],
   "source": [
    "obs_cas = readFile(\"CasinoFull.txt\") #einlesen der Versuchswerte, rolls, die, viterbi"
   ]
  },
  {
   "cell_type": "code",
   "execution_count": 8,
   "id": "04765b36-5366-46f6-b06e-4f33cf527fb3",
   "metadata": {},
   "outputs": [],
   "source": [
    "#Zuordnung der eingelesenen werte als Strings, obs1 (rools), die (die), vit_durbin (viterbi)\n",
    "\n",
    "obs1 = \"\" \n",
    "die = \"\"\n",
    "vit_durbin = \"\"\n",
    "\n",
    "for index, value in enumerate(obs_cas):\n",
    "    i = index %3\n",
    "    if i == 0:\n",
    "        obs1 += re.split(r' +', value.strip())[1]\n",
    "    elif i == 1:\n",
    "        die += re.split(r' +', value.strip())[1]\n",
    "    else: \n",
    "        vit_durbin += re.split(r' +', value.strip())[1]"
   ]
  },
  {
   "cell_type": "markdown",
   "id": "fa857276-d1be-4ddd-aeef-abf157b1edf2",
   "metadata": {},
   "source": [
    "## Implementierung der Algorithmen und Definitionen der nötigen Hilfsfunktionen"
   ]
  },
  {
   "cell_type": "code",
   "execution_count": 9,
   "id": "e2d49163-f24f-49cb-b7c8-ac333334b90d",
   "metadata": {},
   "outputs": [],
   "source": [
    "def logProb(init_p, trans_p, emit_p):\n",
    "    \"\"\"\n",
    "    Nimmt ein init_p Dictionary und trans_p, emit_p Dataframe mit Wahrscheinlichkeiten entgegen und transformatiert diese in LogSpace.\n",
    "    \"\"\"\n",
    "    \n",
    "    init_p = init_p.copy()\n",
    "    for key, value in init_p.items():\n",
    "        init_p[key] = np.log(value)\n",
    "    \n",
    "    trans_p = trans_p.copy().apply(np.log)\n",
    "    emit_p = emit_p.copy().apply(np.log)\n",
    "    \n",
    "    return init_p, trans_p, emit_p\n",
    "        "
   ]
  },
  {
   "cell_type": "code",
   "execution_count": 10,
   "id": "5fe29f50-e505-45c9-afcb-4c4a6bd71a34",
   "metadata": {},
   "outputs": [],
   "source": [
    "def viterbi(obs, states, init_p, trans_p, emit_p):\n",
    "    \"\"\"\n",
    "    Führt den Viterbi Algorithmus aus, bei beobachteter Sequenz obs und den Eigenschaften des HMM, states, init_p, trans_p und emit_p.\n",
    "    Gibt einen Pfad zurück, mit maximaler Wahrscheinlichkeit pr(obs,Pfad) über alle Pfade des HMM. Außerdem wird noch die Matrix zur Berechnung der\n",
    "    Wahrscheinlichkeiten und die Backtrackingmatrix zurückgegeben.\n",
    "    \"\"\"\n",
    "    \n",
    "    init_p, trans_p, emit_p = logProb(init_p, trans_p, emit_p) # umwandeln in Log-Wahrscheinlichkeiten\n",
    "    \n",
    "    T = len(obs) # Länge der beobachteten Sequenz\n",
    "    K = len(states) # Anzähl der Zustände\n",
    "    \n",
    "    T1 = np.zeros((K,T)) #Matrix zur Speicherung der Wahrscheinlichkeiten\n",
    "    T2 = np.zeros((K,T),dtype=int) #Backtracking matrix\n",
    "    \n",
    "    #Init Wahrscheinlichkeitsmatrix mit Startwahrscheinlichkeiten\n",
    "    for k, state in enumerate(states):\n",
    "        T1[k,0] = init_p[state] + emit_p.loc[state,obs[0]]\n",
    "    \n",
    "    #auffüllen der Wahrscheinlichkeits- und Backtrackingmatrix mit dynamischen Programmieren\n",
    "    for i, o in enumerate(obs[1:],1):\n",
    "        for k, state in enumerate(states):\n",
    "            T1[k,i] = np.max([T1[l,i-1]+trans_p.loc[before,state]+emit_p.loc[state,o] for l,before in enumerate(states)])\n",
    "            T2[k,i] = np.argmax([T1[l,i-1]+trans_p.loc[before,state]+emit_p.loc[state,o] for l,before in enumerate(states)])\n",
    "    \n",
    "    x = np.empty(T,dtype = str)\n",
    "    z = np.argmax(T1[:, T - 1]) #index der größten Wahrscheinlichkeit in letzter Spalte er Matrix\n",
    "    x[-1] = states[z] \n",
    "    \n",
    "    for i in reversed(range(1, T)):\n",
    "        z = T2[z,i] #backtracking des verwendeten Zustandes für i-1\n",
    "        x[i-1] = states[z]\n",
    "    \n",
    "    return x,T1,T2"
   ]
  },
  {
   "cell_type": "code",
   "execution_count": 11,
   "id": "912e5495-2a4c-4d63-9f65-de9805555e3c",
   "metadata": {},
   "outputs": [],
   "source": [
    "def forward_alg(obs, states, init_p, trans_p, emit_p):\n",
    "    \"\"\"\n",
    "    Führt den forward-Algorithmus aus, um die Wahrscheinlichkeit zu bestimmen, dass eine Sequenz obs von einem HMM generiert wird.\n",
    "    \"\"\"\n",
    "    \n",
    "    \n",
    "    T = len(obs) # Länge der beobachteten Sequenz\n",
    "    K = len(states) # Anzähl der Zustände\n",
    "    \n",
    "    T1 = np.zeros((K,T)) #Matrix zur Speicherung der Forwardwahrscheinlichkeiten\n",
    "    \n",
    "    #Init Wahrscheinlichkeitsmatrix mit Startwahrscheinlichkeiten, vom Startzustand nur ein Pfad erlaubt.\n",
    "    for k, state in enumerate(states):\n",
    "        T1[k,0] = init_p[state] * emit_p.loc[state,obs[0]]\n",
    "    \n",
    "    #auffüllen der Wahrscheinlichkeits\n",
    "    for i, o in enumerate(obs[1:],1):\n",
    "        for k, state in enumerate(states):\n",
    "            T1[k,i] = emit_p.loc[state, o] * np.sum([T1[l,i-1] * trans_p.loc[before, state] for l, before in enumerate(states)]) \n",
    "            \n",
    "    p_obs = np.sum(T1[:,-1])\n",
    "    \n",
    "    return p_obs, T1\n",
    "    "
   ]
  },
  {
   "cell_type": "code",
   "execution_count": 12,
   "id": "48d07d28-af2c-41e9-ada4-d1fdab826a1a",
   "metadata": {},
   "outputs": [],
   "source": [
    "def backward_alg(obs,states, init_p, trans_p, emit_p):\n",
    "    \"\"\"\n",
    "    Führt den backward-Algorithmus aus, um die Wahrscheinlichkeit zu bestimmen, dass eine Sequenz obs von einem HMM generiert wird.\n",
    "    \"\"\"\n",
    "    T = len(obs) # Länge der beobachteten Sequenz\n",
    "    K = len(states) # Anzähl der Zustände\n",
    "    \n",
    "    T = np.zeros((K,T)) #Matrix zur Speicherung der Backwardswahrscheinlichkeiten\n",
    "    \n",
    "    #Init Wahrscheinlichkeitsmatrix mit Startwahrscheinlichkeiten, vom Startzustand nur ein Pfad erlaubt.\n",
    "    for k, state in enumerate(states):\n",
    "        T[k,-1] = 1\n",
    "    \n",
    "    for i,o in reversed(list(enumerate(obs[:-1]))):\n",
    "        for k, state in enumerate(states):\n",
    "            T[k,i] = np.sum([trans_p.loc[state, after] * emit_p.loc[after, obs[i+1]] * T[l,i+1] for l, after in enumerate(states)] )\n",
    "    \n",
    "    p_obs = np.sum([init_p[state] * emit_p.loc[state, obs[0]] * T[l,0] for l,state in enumerate(states)])\n",
    "    return p_obs,T"
   ]
  },
  {
   "cell_type": "code",
   "execution_count": 13,
   "id": "bd9dbaa1-875e-4545-ac92-89e0b8d533e9",
   "metadata": {},
   "outputs": [],
   "source": [
    "def forward_backward_alg(obs,states, init_p, trans_p, emit_p):\n",
    "    \"\"\"\n",
    "    Führt den Forward-Backward-Algorithmus aus. Unter der Verwendung der bereits definierten Forward und Backward-Algorithmen.\n",
    "    \"\"\"\n",
    "    T = len(obs) # Länge der beobachteten Sequenz\n",
    "    K = len(states) # Anzähl der Zustände\n",
    "    \n",
    "    p_obs, F = forward_alg(obs,states, init_p, trans_p, emit_p)\n",
    "    B = backward_alg(obs,states,init_p,trans_p,emit_p)[1]\n",
    "    \n",
    "    T = np.zeros((K,T))\n",
    "    \n",
    "    for i in range(len(obs)):\n",
    "        for k in range(len(states)):\n",
    "            T[k,i] = F[k,i]*B[k,i]/p_obs\n",
    "    return T"
   ]
  },
  {
   "cell_type": "code",
   "execution_count": 14,
   "id": "62e6ee13-2693-4326-9c9f-3a2dea859fd8",
   "metadata": {},
   "outputs": [],
   "source": [
    "def logsumexp(x):\n",
    "    \"\"\"\n",
    "    Hilfsfunktion, um exp von Summen auch für sehr kleine Funktionen berechnen zu können.\n",
    "    \"\"\"\n",
    "    c = np.max(x)\n",
    "    return c + np.log(np.sum(np.exp(x - c)))\n"
   ]
  },
  {
   "cell_type": "code",
   "execution_count": 15,
   "id": "64e97250-36ef-45f1-bc7c-fc6648c509ca",
   "metadata": {},
   "outputs": [],
   "source": [
    "def forward_alg_logspace(obs, states, init_p, trans_p, emit_p):\n",
    "    \"\"\"\n",
    "    Führt den forward-Algorithmus in LogSpace aus, um die Wahrscheinlichkeit zu bestimmen, dass eine Sequenz obs von einem HMM generiert wird.\n",
    "    \"\"\"\n",
    "    \n",
    "    T = len(obs) # Länge der beobachteten Sequenz\n",
    "    K = len(states) # Anzähl der Zustände\n",
    "    \n",
    "    T1 = np.zeros((K,T)) #Matrix zur Speicherung der Forwardwahrscheinlichkeiten\n",
    "    \n",
    "    init_p, trans_p, emit_p = logProb(init_p, trans_p, emit_p)\n",
    "    \n",
    "    \n",
    "    #Init Wahrscheinlichkeitsmatrix mit Startwahrscheinlichkeiten, vom Startzustand nur ein Pfad erlaubt.\n",
    "    for k, state in enumerate(states):\n",
    "        T1[k,0] = init_p[state] + emit_p.loc[state,obs[0]]\n",
    "    \n",
    "    #auffüllen der Wahrscheinlichkeits\n",
    "    for i, o in enumerate(obs[1:],1):\n",
    "        for k, state in enumerate(states):\n",
    "            T1[k,i] = emit_p.loc[state, o] + logsumexp([T1[l,i-1] + trans_p.loc[before, state] for l, before in enumerate(states)]) \n",
    "            \n",
    "    p_obs = logsumexp(T1[:,-1])\n",
    "    \n",
    "    return p_obs, T1"
   ]
  },
  {
   "cell_type": "code",
   "execution_count": 16,
   "id": "ddfcb101-da6b-49e4-9f26-8e932a5ee46b",
   "metadata": {},
   "outputs": [],
   "source": [
    "def backward_alg_logspace(obs,states, init_p, trans_p, emit_p):\n",
    "    \n",
    "    \"\"\"\n",
    "    Führt den backward-Algorithmus in LogSpace aus, um die Wahrscheinlichkeit zu bestimmen, dass eine Sequenz obs von einem HMM generiert wird.\n",
    "    \"\"\"\n",
    "    \n",
    "    T = len(obs) # Länge der beobachteten Sequenz\n",
    "    K = len(states) # Anzähl der Zustände\n",
    "    \n",
    "    T = np.zeros((K,T)) #Matrix zur Speicherung der Backwardswahrscheinlichkeiten\n",
    "    \n",
    "    init_p, trans_p, emit_p = logProb(init_p, trans_p, emit_p)\n",
    "    \n",
    "    \n",
    "    #Init Wahrscheinlichkeitsmatrix mit Startwahrscheinlichkeiten, vom Startzustand nur ein Pfad erlaubt.\n",
    "    for k, state in enumerate(states):\n",
    "        T[k,-1] = 0\n",
    "    \n",
    "    for i,o in reversed(list(enumerate(obs[:-1]))):\n",
    "        for k, state in enumerate(states):\n",
    "            T[k,i] = logsumexp([trans_p.loc[state, after] + emit_p.loc[after, obs[i+1]] + T[l,i+1] for l, after in enumerate(states)] )\n",
    "    \n",
    "    p_obs = logsumexp([init_p[state] + emit_p.loc[state, obs[0]] + T[l,0] for l,state in enumerate(states)])\n",
    "    return p_obs,T"
   ]
  },
  {
   "cell_type": "code",
   "execution_count": 17,
   "id": "14300261-9387-4894-bf45-daf43cfa4a36",
   "metadata": {},
   "outputs": [],
   "source": [
    "def forward_backward_alg_logspace(obs,states, init_p, trans_p, emit_p):\n",
    "    \n",
    "    \"\"\"\n",
    "    Führt den Forward-Backward-Algorithmus in LogSpace aus. Unter der Verwendung der bereits definierten Forward und Backward-Algorithmen.\n",
    "    \"\"\"\n",
    "    \n",
    "    T = len(obs) # Länge der beobachteten Sequenz\n",
    "    K = len(states) # Anzähl der Zustände\n",
    "    \n",
    "    log_p_obs, F = forward_alg_logspace(obs,states, init_p, trans_p, emit_p)\n",
    "    B = backward_alg_logspace(obs,states,init_p,trans_p,emit_p)[1]\n",
    "    \n",
    "    T = np.zeros((K,T))\n",
    "    \n",
    "    for i in range(len(obs)):\n",
    "        for k in range(len(states)):\n",
    "            T[k,i] = F[k,i]+B[k,i] - log_p_obs\n",
    "    return T"
   ]
  },
  {
   "cell_type": "markdown",
   "id": "e3a10b54-e48c-4224-978d-255d76cf9bfa",
   "metadata": {},
   "source": [
    "## Auswertung des Durbinbeispiels"
   ]
  },
  {
   "cell_type": "markdown",
   "id": "dfc0e818-b46b-4d4f-8427-664435de84a4",
   "metadata": {},
   "source": [
    "### Graphische Auswertung\n",
    "\n",
    "Im folgenden wird der Viterbi-Pfad mit dem echten Pfad und den Wahrscheinlichkeiten für einen Zustand graphisch visualisiert."
   ]
  },
  {
   "cell_type": "code",
   "execution_count": 18,
   "id": "78e1afe2-3ff7-4b80-868a-e82f150570cb",
   "metadata": {},
   "outputs": [],
   "source": [
    "fb = forward_backward_alg_logspace(obs,states,start_prob,transition,emission)\n",
    "vit = viterbi(obs,states,start_prob,transition,emission)"
   ]
  },
  {
   "cell_type": "code",
   "execution_count": 19,
   "id": "81430088-954f-4fd6-bb68-8ba1e7b776ce",
   "metadata": {},
   "outputs": [
    {
     "data": {
      "image/png": "[encoded data removed]",
      "text/plain": [
       "<Figure size 432x288 with 2 Axes>"
      ]
     },
     "metadata": {
      "needs_background": "light"
     },
     "output_type": "display_data"
    }
   ],
   "source": [
    "vit_path = [0 if x == 'L' else 1 for x in vit[0]]\n",
    "post_path = np.exp(fb[0]) #umwandlung vom LogSpace zu normalen Wahrscheinlichkeiten\n",
    "die_path = [0 if x == 'L' else 1 for x in die]\n",
    "\n",
    "fig, ax = plt.subplots()\n",
    "\n",
    "ax.set_yticks([0,1])\n",
    "ax.set_yticklabels([\"loaded\",\"fair\"])\n",
    "ax.set_xlabel(\"Dice roll\")\n",
    "ax2 = ax.twinx()\n",
    "\n",
    "\n",
    "lns1 = ax.plot(vit_path, label = \"Viterbi path\",linewidth=2.5,alpha = .9, color= \"#3E8E7E\")\n",
    "lns2 = ax2.plot(post_path, color= \"#7CD1B8\", label = \"Probability of fair state\",alpha = 1)\n",
    "lns3 = ax.plot(die_path, label = \"Real die path\",linewidth=1.5,alpha = 0.3, color= \"black\",linestyle='dashed')\n",
    "\n",
    "lns = lns1+ lns2 + lns3\n",
    "labs = [l.get_label() for l in lns]\n",
    "#ax.legend(lns, labs, loc=0)\n",
    "ax.legend(lns, labs,loc='center left', bbox_to_anchor=(1.1, 0.5))\n",
    "\n",
    "\n",
    "ax.grid()\n",
    "plt.show()\n"
   ]
  },
  {
   "cell_type": "markdown",
   "id": "a996fe98-b16d-447a-942e-756495c81f23",
   "metadata": {},
   "source": [
    "### Vergleich der Wahrscheinlichkeiten\n",
    "Hier werden die Wahrscheinlichkeiten des Viterbi, Posterior-Pfades und des echten Pfades selber betrachtet.\n",
    "Dabei werden die Wahrscheinlichkeiten für den Pfad selbst und die Wahrscheinlichkeiten für die Emission gegeben den Pfad betrachtet."
   ]
  },
  {
   "cell_type": "code",
   "execution_count": 20,
   "id": "8b59674d-e6b1-46cb-a210-4d46bf066f24",
   "metadata": {},
   "outputs": [],
   "source": [
    "def PosteriorPath(fb,states):\n",
    "    \"\"\"Berechnung des Pfades, in dem jeder Zustand an der Stelle i die höchste Wahrscheinlichkeit hat\"\"\"\n",
    "    post_path = []\n",
    "    for i in range(fb.shape[1]):\n",
    "        arg_max = np.argmax(fb[:,i])\n",
    "        post_path.append( states[arg_max])\n",
    "    return post_path"
   ]
  },
  {
   "cell_type": "code",
   "execution_count": 21,
   "id": "3c7525dc-72e6-4956-9233-631549c66d10",
   "metadata": {},
   "outputs": [],
   "source": [
    "post_path = PosteriorPath(fb,states)"
   ]
  },
  {
   "cell_type": "code",
   "execution_count": 22,
   "id": "dc801bfb-f675-401c-b7c4-87779c4b8b29",
   "metadata": {},
   "outputs": [],
   "source": [
    "def hiddenPathProb_logspace(path, init_p, trans_p, emit_p):\n",
    "    \n",
    "    \"\"\"\n",
    "    Berechnung der Wahrscheinlichkeit, dass ein HMM den angegebenen Pfad generiert.\n",
    "    \"\"\"\n",
    "    \n",
    "    res = 0\n",
    "    \n",
    "    init_p, trans_p = logProb(init_p, trans_p, emit_p)[0:2]\n",
    "    \n",
    "    for i, state in enumerate(path):\n",
    "        if i == 0:\n",
    "            res += init_p[state]\n",
    "        else:\n",
    "            res += trans_p.loc[path[i-1], state]\n",
    "    return res\n",
    "    "
   ]
  },
  {
   "cell_type": "code",
   "execution_count": 23,
   "id": "d30275c7-727a-47ef-bbac-81dd221ec2b0",
   "metadata": {},
   "outputs": [],
   "source": [
    "def outcomeProb_logspace(x,path, init_p, trans_p, emit_p):\n",
    "    \n",
    "    \"\"\"\n",
    "    Berechnung der Wahrscheinlichkeit einer Emissions-Sequenz für gegebenen Pfad.\n",
    "    \"\"\"\n",
    "    \n",
    "    res = 0        \n",
    "    init_p, trans_p, emit_p = logProb(init_p, trans_p, emit_p)\n",
    "    \n",
    "    for i in range(len(x)):\n",
    "        res +=  emit_p.loc[path[i],x[i]]\n",
    "    return res    "
   ]
  },
  {
   "cell_type": "markdown",
   "id": "1a942c5d-5fe6-4004-8658-643c301d58b7",
   "metadata": {},
   "source": [
    "Die folgenden Berechnungen zeigen, dass die Wahrscheinlichkeit für die Generierung des Viterbi-Pfades kleiner ist als die des Posterior-Pfades, aber zusammen mit den Emissionen, hat der Viterbi-Pfad (definitionsgemäß) dementsprechend die größte Wahrscheinlichkeit."
   ]
  },
  {
   "cell_type": "code",
   "execution_count": 24,
   "id": "07e0d4ba-8825-4fd0-a161-b1a7f3841bab",
   "metadata": {},
   "outputs": [
    {
     "name": "stdout",
     "output_type": "stream",
     "text": [
      "Wahrscheinlichkeiten (LogSpace) für Emission gegeben Posterior-Pfad und W. für Posterior-Pfad selbst\n",
      " -487.95752340884144 -56.99567145482143\n"
     ]
    }
   ],
   "source": [
    "print(\"Wahrscheinlichkeiten (LogSpace) für Emission gegeben Posterior-Pfad und W. für Posterior-Pfad selbst\\n\",outcomeProb_logspace(obs, post_path, start_prob, transition, emission), hiddenPathProb_logspace(post_path, start_prob, transition, emission))"
   ]
  },
  {
   "cell_type": "code",
   "execution_count": 25,
   "id": "d12e9aeb-0fd5-491f-b478-7acb94b21c5c",
   "metadata": {},
   "outputs": [
    {
     "name": "stdout",
     "output_type": "stream",
     "text": [
      "Wahrscheinlichkeiten für Emission gegeben Viterbi-Pfad und W. für Viterbi-Pfad selbst\n",
      " -498.3558596306204 -41.13814301515145\n"
     ]
    }
   ],
   "source": [
    "print(\"Wahrscheinlichkeiten für Emission gegeben Viterbi-Pfad und W. für Viterbi-Pfad selbst\\n\",outcomeProb_logspace(obs, vit[0], start_prob, transition, emission), hiddenPathProb_logspace(vit[0], start_prob, transition, emission))"
   ]
  },
  {
   "cell_type": "code",
   "execution_count": 26,
   "id": "09ac906b-02e3-4856-90e6-d734d5c46752",
   "metadata": {},
   "outputs": [
    {
     "name": "stdout",
     "output_type": "stream",
     "text": [
      "Wahrscheinlichkeiten für Emission gegeben der echte Pfad und W. für echten Pfad selbst\n",
      " -498.04801546607587 -52.07027678339977\n"
     ]
    }
   ],
   "source": [
    "print(\"Wahrscheinlichkeiten für Emission gegeben der echte Pfad und W. für echten Pfad selbst\\n\",outcomeProb_logspace(obs, die, start_prob, transition, emission), hiddenPathProb_logspace(die, start_prob, transition, emission))"
   ]
  },
  {
   "cell_type": "markdown",
   "id": "c3bf3b4e-3ced-4e60-881f-34d4521982e8",
   "metadata": {},
   "source": [
    "Der berechnete Pfad stimmt auch mit dem Buchbeispiel überein, dementsprechend scheint der Algorithmus richtig implementiert zu sein."
   ]
  },
  {
   "cell_type": "code",
   "execution_count": 27,
   "id": "78fa02e5-3c57-408a-ab8a-2c6895aa28c5",
   "metadata": {},
   "outputs": [
    {
     "name": "stdout",
     "output_type": "stream",
     "text": [
      "Berechneter Viterbi-Pfad stimmt mit Buch-Beispiel überein:  True\n"
     ]
    }
   ],
   "source": [
    "print(\"Berechneter Viterbi-Pfad stimmt mit Buch-Beispiel überein: \",\"\".join(vit[0]) == vit_durbin)"
   ]
  },
  {
   "cell_type": "markdown",
   "id": "24c09b14-3ef4-4d58-bc24-e5c9c62d7d49",
   "metadata": {},
   "source": [
    "### Sensitivität und Spezifität\n",
    "In diesem Abschnitt wird die Sensitivität und Spezifität des Viterbi- und des Posterior-Pfades im Bezug auf die Erkennung von unfairen Würfeln betrachtet."
   ]
  },
  {
   "cell_type": "code",
   "execution_count": 28,
   "id": "a1f51e8a-5feb-485e-85a3-51b9b3d5f851",
   "metadata": {},
   "outputs": [],
   "source": [
    "def tpr_tnr(estimation, real, char):\n",
    "    \"\"\"\n",
    "    Berechnet tpr (Sensitivität) und tnr (Spezifität) für gegebenen Pfad und realem Pfad im Bezug auf übergebenem Zustand (char).\n",
    "    \"\"\"\n",
    "    \n",
    "    res = {\"tp\":0,\"tn\":0,\"fp\":0,'fn':0}\n",
    "    for i in range(len(estimation)):\n",
    "        if (x := estimation[i]) == real[i]:\n",
    "            if x == char:\n",
    "                res[\"tp\"] += 1\n",
    "            else:\n",
    "                res[\"tn\"] += 1\n",
    "        elif (x := estimation[i]) != real[i]:\n",
    "            if x == char:\n",
    "                res[\"fp\"] +=1\n",
    "            else:\n",
    "                res[\"fn\"] +=1\n",
    "    tpr = 0 if res[\"tp\"] == 0 else res[\"tp\"]/(res[\"tp\"]+res[\"fn\"])\n",
    "    tnr = 0 if res[\"tn\"] == 0 else res[\"tn\"]/(res[\"tn\"]+res[\"fp\"])\n",
    "    \n",
    "    return tpr, tnr"
   ]
  },
  {
   "cell_type": "code",
   "execution_count": 29,
   "id": "f1d60450-0a8c-46d1-80be-724d04cffea7",
   "metadata": {},
   "outputs": [
    {
     "name": "stdout",
     "output_type": "stream",
     "text": [
      "Viterbi-Pfad: (tpr, tnr)\n",
      "(0.7916666666666666, 0.9607843137254902)\n"
     ]
    }
   ],
   "source": [
    "print(\"Viterbi-Pfad: (tpr, tnr)\")\n",
    "print(tpr_tnr(vit[0],die,\"L\"))"
   ]
  },
  {
   "cell_type": "code",
   "execution_count": 30,
   "id": "42dbfabe-80fd-4cab-9a3e-967377ae4e9a",
   "metadata": {},
   "outputs": [
    {
     "name": "stdout",
     "output_type": "stream",
     "text": [
      "Posterior-Pfad: (tpr, tnr)\n",
      "(0.8333333333333334, 0.9411764705882353)\n"
     ]
    }
   ],
   "source": [
    "print(\"Posterior-Pfad: (tpr, tnr)\")\n",
    "print(tpr_tnr(post_path,die,\"L\"))"
   ]
  },
  {
   "cell_type": "markdown",
   "id": "abf97911-3b62-436c-9f3c-d2216bfddc21",
   "metadata": {},
   "source": [
    "# Anhang\n",
    "\n",
    "## Erster Ansatz für Viterbi\n",
    "Hier befindet sich der ursprüngliche Ansatz, bei dem das Backtracking nicht richtig implementiert war. Dabei wurde zum Backtracking ein Knoten-Objekt erstellt, welches jeweils immer den Vorgängerknoten enthalten sollte."
   ]
  },
  {
   "cell_type": "code",
   "execution_count": 31,
   "id": "c0981158-19aa-4cc2-b441-b6d6e2105e03",
   "metadata": {},
   "outputs": [
    {
     "name": "stdout",
     "output_type": "stream",
     "text": [
      "\n"
     ]
    }
   ],
   "source": [
    "\n",
    "\"\"\"\n",
    "Dieser Ansatz funktionierte nicht, da das Backtracking nicht richtig implementiert ist. \n",
    "\"\"\"\n",
    "\"\"\"\n",
    "class BacktrackingNode:\n",
    "    def __init__(self, state= \"\", predecessor = None):\n",
    "        self.state = state\n",
    "        self.predecessor = predecessor\n",
    "    def __repr__(self):\n",
    "        return f'{self.state}{self.predecessor}' if self.predecessor != None else f'{self.state}'\n",
    "\n",
    "seq = \"11\" #test\n",
    "\n",
    "def viterbi(seq):\n",
    "    n = len(seq)\n",
    "    viterbi_matrix = np.zeros((len(states),n))\n",
    "\n",
    "    #initialisation:\n",
    "\n",
    "    s_source = 1\n",
    "    backtracking = []\n",
    "    \n",
    "    init_prob = [0.6,0.4]\n",
    "\n",
    "    #calculating the viterbi matrix\n",
    "    for i, char in enumerate(seq):\n",
    "        for j, state in enumerate(states):\n",
    "            if i == 0:\n",
    "                viterbi_matrix[j,i] = np.log(s_source* init_prob[j] * emission.loc[state, char])\n",
    "                backtracking.append(BacktrackingNode(state))\n",
    "            else:\n",
    "                transition_score = max([(viterbi_matrix[l,i-1] + np.log(transition.loc[before,state]),before) for l, before in enumerate(states)], key = lambda item: item[0])\n",
    "                viterbi_matrix[j,i] = np.log(emission.loc[state,char]) + transition_score[0]\n",
    "                backtracking[j] = BacktrackingNode(transition_score[1],backtracking[j]) \n",
    "\n",
    "\n",
    "    log_prob = max(viterbi_matrix[:,-1])\n",
    "    backtracking = backtracking[np.argmax(viterbi_matrix[:,-1])]\n",
    "    \n",
    "    return log_prob, backtracking\n",
    "\"\"\"\n",
    "print(\"\")"
   ]
  },
  {
   "cell_type": "markdown",
   "id": "b26d5a5a-e992-4360-a837-85d00912b4c4",
   "metadata": {},
   "source": [
    "## Münzwurfmodell\n",
    "Zum Testen der Funktionen und Überlegungen wurde zunächst ein etwas leichteres Modell betrachtet. Hier wird kein Würfel geworfen, sondern eine Münze. Dabei tauscht der Casinobesitzer zwischen der fairen (fair -> \"F\") und der gezinkten Münze (biased -> \"b\"). Die möglichen Emissionen sind dementsprechend Kopf (\"Head\" -> \"H\") und Zahl (\"Tail\" -> \"T\"). "
   ]
  },
  {
   "cell_type": "code",
   "execution_count": 32,
   "id": "483c66d5-4360-437d-8758-a546985ea2d9",
   "metadata": {},
   "outputs": [],
   "source": [
    "obs_t = \"HHHHHHHHHHHHHHHTHTHTHTHTHTHTHTHTHTHTHTHT\"\n",
    "\n",
    "alphabet_t = ['H','T']\n",
    "states_t  = ['F','B']\n",
    "transition_t = pd.DataFrame([[0.9,0.1],[0.1,0.9]],index=states_t, columns=states_t)\n",
    "emission_t = pd.DataFrame([[0.5,0.5],[3/4,1/4]], index= states_t, columns= alphabet_t)\n",
    "start_prob_t = {\"F\":0.5,\"B\":0.5}"
   ]
  },
  {
   "cell_type": "code",
   "execution_count": 33,
   "id": "4e49bec7-97ed-43af-84d5-71d652fd093d",
   "metadata": {},
   "outputs": [],
   "source": [
    "vit_test = viterbi(obs_t,states_t,start_prob_t,transition_t,emission_t)[0]\n",
    "fb_test = forward_backward_alg(obs_t,states_t,start_prob_t,transition_t,emission_t)[0]"
   ]
  },
  {
   "cell_type": "code",
   "execution_count": 34,
   "id": "5a208447-6dfa-486e-8f98-822cb3757df3",
   "metadata": {},
   "outputs": [
    {
     "data": {
      "text/plain": [
       "[<matplotlib.lines.Line2D at 0x2518a088b80>]"
      ]
     },
     "execution_count": 34,
     "metadata": {},
     "output_type": "execute_result"
    },
    {
     "data": {
      "image/png": "[encoded data removed]",
      "text/plain": [
       "<Figure size 432x288 with 1 Axes>"
      ]
     },
     "metadata": {
      "needs_background": "light"
     },
     "output_type": "display_data"
    }
   ],
   "source": [
    "plt.plot([(lambda x: 1 if x == \"F\" else 0)(x) for x in vit_test])\n",
    "plt.plot(fb_test)"
   ]
  }
 ],
 "metadata": {
  "kernelspec": {
   "display_name": "Python 3",
   "language": "python",
   "name": "python3"
  },
  "language_info": {
   "codemirror_mode": {
    "name": "ipython",
    "version": 3
   },
   "file_extension": ".py",
   "mimetype": "text/x-python",
   "name": "python",
   "nbconvert_exporter": "python",
   "pygments_lexer": "ipython3",
   "version": "3.8.8"
  },
  "toc-autonumbering": true,
  "toc-showmarkdowntxt": false
 },
 "nbformat": 4,
 "nbformat_minor": 5
}
